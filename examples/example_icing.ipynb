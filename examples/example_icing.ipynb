{
 "cells": [
  {
   "cell_type": "code",
   "execution_count": 1,
   "id": "dc798b22-19d4-4a42-ab0f-40069396fa2a",
   "metadata": {},
   "outputs": [],
   "source": [
    "from dataicer import DirectoryHandler, list_handlers, ZipHandler\n",
    "from dataicer.plugins import get_numpy_handlers\n",
    "import numpy as np\n",
    "import pathlib"
   ]
  },
  {
   "cell_type": "code",
   "execution_count": 2,
   "id": "a0bde3be-b55b-4934-b432-55bb23313d62",
   "metadata": {},
   "outputs": [],
   "source": [
    "np_data = np.arange(10)\n",
    "dict_data = dict(a=1, b=\"hello\")\n",
    "list_data = [1, 2, 3, \"world\"]"
   ]
  },
  {
   "cell_type": "markdown",
   "id": "36cf6295-555e-4ab8-833d-44032e5ccfc5",
   "metadata": {},
   "source": [
    "Saves a new folder called `first_write.ice`"
   ]
  },
  {
   "cell_type": "code",
   "execution_count": 3,
   "id": "4c9df0f5-f854-4a7c-a2ee-c13c7a259cbf",
   "metadata": {},
   "outputs": [
    {
     "name": "stdout",
     "output_type": "stream",
     "text": [
      "/tmp/dataicer_edu7bbc3.ice\n"
     ]
    }
   ],
   "source": [
    "wp = (pathlib.Path(\".\")).absolute()\n",
    "\n",
    "with ZipHandler(\"first_write\", get_numpy_handlers(), mode=\"w\") as dh:\n",
    "    dh.ice(np_data=np_data, dict_data=dict_data, list_data=list_data)\n",
    "    \n",
    "    print(dh.path)\n",
    "\n",
    "# with ZipHandler(\"first_write\", get_numpy_handlers(), mode=\"a\") as dh:\n",
    "#     dh.ice(np_data=np_data)"
   ]
  },
  {
   "cell_type": "code",
   "execution_count": 4,
   "id": "19e979e6-4174-4daf-a411-8312263a6f47",
   "metadata": {},
   "outputs": [
    {
     "name": "stdout",
     "output_type": "stream",
     "text": [
      "('meta', 'dict_data', 'np_data', 'list_data')\n"
     ]
    }
   ],
   "source": [
    "with ZipHandler(\"first_write\", get_numpy_handlers(), mode=\"a\") as dh:\n",
    "    print(dh.keys())\n",
    "    dh.ice(np_data=np_data, dict_data=dict_data, list_data=list_data)"
   ]
  },
  {
   "cell_type": "code",
   "execution_count": 4,
   "id": "79b89a00-79e2-447f-b10f-f2fff2f8e021",
   "metadata": {},
   "outputs": [
    {
     "name": "stdout",
     "output_type": "stream",
     "text": [
      "open\n"
     ]
    },
    {
     "data": {
      "text/plain": [
       "<dataicer._zip_archive.ZipHandler at 0x7fa530066160>"
      ]
     },
     "execution_count": 4,
     "metadata": {},
     "output_type": "execute_result"
    }
   ],
   "source": [
    "dh = ZipHandler(\"first_write\", get_numpy_handlers(), mode=\"w\", working_path=\".\")\n",
    "dh.open()"
   ]
  },
  {
   "cell_type": "code",
   "execution_count": 3,
   "id": "a79feb51-a5c0-42cb-9527-5bad434d1333",
   "metadata": {},
   "outputs": [],
   "source": [
    "with DirectoryHandler(\"first_write\", get_numpy_handlers(), mode=\"w\") as dh:\n",
    "    dh.ice(np_data=np_data, dict_data=dict_data, list_data=list_data)\n",
    "\n",
    "with DirectoryHandler(\"first_write\", get_numpy_handlers(), mode=\"a\") as dh:\n",
    "    dh.ice(np_data=np_data)\n"
   ]
  },
  {
   "cell_type": "code",
   "execution_count": 11,
   "id": "e6dcdb66-189d-49f2-a650-2a5e425f129c",
   "metadata": {},
   "outputs": [
    {
     "data": {
      "text/plain": [
       "PosixPath('/mnt/c/dev/source/dataicer/examples/dataicer/examples')"
      ]
     },
     "execution_count": 11,
     "metadata": {},
     "output_type": "execute_result"
    }
   ],
   "source": [
    "(pathlib.Path(\".\")/\"dataicer/examples\").absolute()"
   ]
  },
  {
   "cell_type": "markdown",
   "id": "9facc3f1-58bc-4bdc-8a37-4820f58397bc",
   "metadata": {},
   "source": [
    "Append or update will overwrite the previously saved file"
   ]
  },
  {
   "cell_type": "code",
   "execution_count": 4,
   "id": "9d3eef52-5a21-4434-96d6-6cba34d932ca",
   "metadata": {},
   "outputs": [
    {
     "name": "stdout",
     "output_type": "stream",
     "text": [
      "('dict_data', 'list_data', 'meta', 'np_data')\n",
      "first_write.ice\n"
     ]
    }
   ],
   "source": [
    "# more_data = np_data.copy()\n",
    "\n",
    "with DirectoryHandler(\"first_write\", get_numpy_handlers(), mode=\"a\") as dh:\n",
    "    print(dh.keys())\n",
    "    print(dh.path)\n",
    "    b = dh._key_get_uuid(\"np_data\")\n",
    "    # dh.ice(np_data=np_data)"
   ]
  },
  {
   "cell_type": "code",
   "execution_count": 5,
   "id": "8124a5ea-1fe7-4931-adec-1ff47fb91243",
   "metadata": {},
   "outputs": [
    {
     "data": {
      "text/plain": [
       "'16248ad6-a76f-11ec-8313-00155dfd409e.txt'"
      ]
     },
     "execution_count": 5,
     "metadata": {},
     "output_type": "execute_result"
    }
   ],
   "source": [
    "b"
   ]
  },
  {
   "cell_type": "code",
   "execution_count": 17,
   "id": "8db2935a-cfca-4e00-a011-95ec06c820a8",
   "metadata": {},
   "outputs": [],
   "source": [
    "import jsonpickle as jp"
   ]
  },
  {
   "cell_type": "code",
   "execution_count": 18,
   "id": "58226cd7-868a-49d6-a98c-8208f43135ec",
   "metadata": {},
   "outputs": [
    {
     "data": {
      "text/plain": [
       "{'dtype': 'int64',\n",
       " 'file_uuid': '9597c3ac-a76d-11ec-990d-00155dfd409e.txt',\n",
       " 'mode': 'txt',\n",
       " 'py/object': 'numpy.ndarray',\n",
       " 'shape': [10]}"
      ]
     },
     "execution_count": 18,
     "metadata": {},
     "output_type": "execute_result"
    }
   ],
   "source": [
    "jp.decode(b)"
   ]
  },
  {
   "cell_type": "code",
   "execution_count": null,
   "id": "038ba972-a967-477f-b75d-bed2fed9f866",
   "metadata": {},
   "outputs": [],
   "source": []
  }
 ],
 "metadata": {
  "kernelspec": {
   "display_name": "Python 3 (ipykernel)",
   "language": "python",
   "name": "python3"
  },
  "language_info": {
   "codemirror_mode": {
    "name": "ipython",
    "version": 3
   },
   "file_extension": ".py",
   "mimetype": "text/x-python",
   "name": "python",
   "nbconvert_exporter": "python",
   "pygments_lexer": "ipython3",
   "version": "3.8.12"
  }
 },
 "nbformat": 4,
 "nbformat_minor": 5
}
